{
 "cells": [
  {
   "cell_type": "markdown",
   "metadata": {},
   "source": [
    "## Задание 1\n",
    "Завершаем практическое задание №2. Необходимо для каждой распознанной фамилии вывести на экран наиболее подходящий вариант из стартового протокола"
   ]
  },
  {
   "cell_type": "code",
   "execution_count": 1,
   "metadata": {},
   "outputs": [],
   "source": [
    "import numpy as np\n",
    "import Levenshtein\n",
    "import pandas as pd"
   ]
  },
  {
   "cell_type": "code",
   "execution_count": 2,
   "metadata": {},
   "outputs": [],
   "source": [
    "# что было написано в заявке\n",
    "claim_list = [\n",
    "    'Шехавцова Анна',\n",
    "    'Гречихина Наталья',\n",
    "    'Козлова Алена',\n",
    "    'Груздева Алина',\n",
    "    'Кущенко Анна',\n",
    "    'Чистякова Анастасия'\n",
    "]"
   ]
  },
  {
   "cell_type": "code",
   "execution_count": 3,
   "metadata": {},
   "outputs": [],
   "source": [
    "# результат расшифровки речи диктора\n",
    "speech_recognition = [\n",
    "    'кучменко она',\n",
    "    'кущенко оксана',\n",
    "    'груздь алина',\n",
    "    'рычихина наталья',\n",
    "    'шиховцева на',\n",
    "    'чистова анастасия'\n",
    "]"
   ]
  },
  {
   "cell_type": "markdown",
   "metadata": {},
   "source": [
    "### Levenshtein"
   ]
  },
  {
   "cell_type": "code",
   "execution_count": 4,
   "metadata": {},
   "outputs": [
    {
     "name": "stdout",
     "output_type": "stream",
     "text": [
      "кучменко она -> Шехавцова Анна = 11\n",
      "кучменко она -> Гречихина Наталья = 14\n",
      "кучменко она -> Козлова Алена = 11\n",
      "кучменко она -> Груздева Алина = 10\n",
      "кучменко она -> Кущенко Анна = 5\n",
      "кучменко она -> Чистякова Анастасия = 15\n",
      "кущенко оксана -> Шехавцова Анна = 11\n",
      "кущенко оксана -> Гречихина Наталья = 15\n",
      "кущенко оксана -> Козлова Алена = 11\n",
      "кущенко оксана -> Груздева Алина = 11\n",
      "кущенко оксана -> Кущенко Анна = 5\n",
      "кущенко оксана -> Чистякова Анастасия = 14\n",
      "груздь алина -> Шехавцова Анна = 11\n",
      "груздь алина -> Гречихина Наталья = 14\n",
      "груздь алина -> Козлова Алена = 9\n",
      "груздь алина -> Груздева Алина = 5\n",
      "груздь алина -> Кущенко Анна = 10\n",
      "груздь алина -> Чистякова Анастасия = 16\n",
      "рычихина наталья -> Шехавцова Анна = 14\n",
      "рычихина наталья -> Гречихина Наталья = 3\n",
      "рычихина наталья -> Козлова Алена = 14\n",
      "рычихина наталья -> Груздева Алина = 14\n",
      "рычихина наталья -> Кущенко Анна = 14\n",
      "рычихина наталья -> Чистякова Анастасия = 12\n",
      "шиховцева на -> Шехавцова Анна = 6\n",
      "шиховцева на -> Гречихина Наталья = 14\n",
      "шиховцева на -> Козлова Алена = 9\n",
      "шиховцева на -> Груздева Алина = 9\n",
      "шиховцева на -> Кущенко Анна = 10\n",
      "шиховцева на -> Чистякова Анастасия = 13\n",
      "чистова анастасия -> Шехавцова Анна = 13\n",
      "чистова анастасия -> Гречихина Наталья = 12\n",
      "чистова анастасия -> Козлова Алена = 12\n",
      "чистова анастасия -> Груздева Алина = 14\n",
      "чистова анастасия -> Кущенко Анна = 14\n",
      "чистова анастасия -> Чистякова Анастасия = 4\n"
     ]
    }
   ],
   "source": [
    "# проверим Levenshtein.distance для каждого имени из claim_list\n",
    "for recognized_name in speech_recognition:\n",
    "    for real_name in claim_list:\n",
    "        print('{} -> {} = {}'.format(recognized_name, real_name, Levenshtein.distance(recognized_name, real_name)))"
   ]
  },
  {
   "cell_type": "code",
   "execution_count": 5,
   "metadata": {},
   "outputs": [
    {
     "name": "stdout",
     "output_type": "stream",
     "text": [
      "{'Шехавцова Анна': 11, 'Гречихина Наталья': 14, 'Козлова Алена': 11, 'Груздева Алина': 10, 'Кущенко Анна': 5, 'Чистякова Анастасия': 15}\n",
      "{'Шехавцова Анна': 11, 'Гречихина Наталья': 15, 'Козлова Алена': 11, 'Груздева Алина': 11, 'Кущенко Анна': 5, 'Чистякова Анастасия': 14}\n",
      "{'Шехавцова Анна': 11, 'Гречихина Наталья': 14, 'Козлова Алена': 9, 'Груздева Алина': 5, 'Кущенко Анна': 10, 'Чистякова Анастасия': 16}\n",
      "{'Шехавцова Анна': 14, 'Гречихина Наталья': 3, 'Козлова Алена': 14, 'Груздева Алина': 14, 'Кущенко Анна': 14, 'Чистякова Анастасия': 12}\n",
      "{'Шехавцова Анна': 6, 'Гречихина Наталья': 14, 'Козлова Алена': 9, 'Груздева Алина': 9, 'Кущенко Анна': 10, 'Чистякова Анастасия': 13}\n",
      "{'Шехавцова Анна': 13, 'Гречихина Наталья': 12, 'Козлова Алена': 12, 'Груздева Алина': 14, 'Кущенко Анна': 14, 'Чистякова Анастасия': 4}\n"
     ]
    }
   ],
   "source": [
    "# создадим список словарей, где ключ - имя из claim_list, значение - Levenshtein.distance\n",
    "dist = []\n",
    "for recognized_name in speech_recognition:\n",
    "    distances_list = {real_name: Levenshtein.distance(recognized_name, real_name) for real_name in claim_list}\n",
    "    dist.append(distances_list)\n",
    "    print(distances_list)   "
   ]
  },
  {
   "cell_type": "code",
   "execution_count": 6,
   "metadata": {},
   "outputs": [
    {
     "name": "stdout",
     "output_type": "stream",
     "text": [
      "('Кущенко Анна', 5) - наиболее подходящий вариант для   кучменко она\n",
      "('Кущенко Анна', 5) - наиболее подходящий вариант для   кущенко оксана\n",
      "('Груздева Алина', 5) - наиболее подходящий вариант для   груздь алина\n",
      "('Гречихина Наталья', 3) - наиболее подходящий вариант для   рычихина наталья\n",
      "('Шехавцова Анна', 6) - наиболее подходящий вариант для   шиховцева на\n",
      "('Чистякова Анастасия', 4) - наиболее подходящий вариант для   чистова анастасия\n"
     ]
    }
   ],
   "source": [
    "for i in range(0,len(speech_recognition)):\n",
    "    print('{} - наиболее подходящий вариант для   {}'.format\\\n",
    "          (sorted(dist[i].items(),key = lambda x: x[1])[0],speech_recognition[i]))"
   ]
  },
  {
   "cell_type": "markdown",
   "metadata": {},
   "source": [
    "## Задание 2\n",
    "Постройте модель kNN для распознавания цифр. Посчитайте получившееся значение точности (последняя строка в файле 7. kNN digits.ipynb)"
   ]
  },
  {
   "cell_type": "code",
   "execution_count": 7,
   "metadata": {},
   "outputs": [],
   "source": [
    "from sklearn import datasets\n",
    "from sklearn.neighbors import KNeighborsClassifier\n",
    "import matplotlib.pyplot as plt\n",
    "%matplotlib inline"
   ]
  },
  {
   "cell_type": "code",
   "execution_count": 8,
   "metadata": {},
   "outputs": [],
   "source": [
    "digits = datasets.load_digits()"
   ]
  },
  {
   "cell_type": "markdown",
   "metadata": {},
   "source": [
    "Нарисуем пример цифры"
   ]
  },
  {
   "cell_type": "code",
   "execution_count": 9,
   "metadata": {},
   "outputs": [
    {
     "data": {
      "text/plain": [
       "<Figure size 432x288 with 0 Axes>"
      ]
     },
     "metadata": {},
     "output_type": "display_data"
    },
    {
     "data": {
      "image/png": "[encoded data removed]",
      "text/plain": [
       "<Figure size 288x288 with 1 Axes>"
      ]
     },
     "metadata": {
      "needs_background": "light"
     },
     "output_type": "display_data"
    }
   ],
   "source": [
    "plt.gray()\n",
    "for i in range(0, 1):\n",
    "    plt.matshow(digits.images[i])\n",
    "    \n",
    "plt.show() "
   ]
  },
  {
   "cell_type": "markdown",
   "metadata": {},
   "source": [
    "Признаки и целевая переменная"
   ]
  },
  {
   "cell_type": "code",
   "execution_count": 10,
   "metadata": {},
   "outputs": [],
   "source": [
    "X_digits = digits.data\n",
    "Y_digits = digits.target"
   ]
  },
  {
   "cell_type": "markdown",
   "metadata": {},
   "source": [
    "Количество цифр в данных"
   ]
  },
  {
   "cell_type": "code",
   "execution_count": 11,
   "metadata": {},
   "outputs": [],
   "source": [
    "n_samples = len( X_digits )"
   ]
  },
  {
   "cell_type": "markdown",
   "metadata": {},
   "source": [
    "Разобьем данные на обучающую выборку и тест в пропорции 90 / 10"
   ]
  },
  {
   "cell_type": "code",
   "execution_count": 12,
   "metadata": {},
   "outputs": [
    {
     "data": {
      "text/plain": [
       "1617"
      ]
     },
     "execution_count": 12,
     "metadata": {},
     "output_type": "execute_result"
    }
   ],
   "source": [
    "split = int( n_samples * .9 )\n",
    "split"
   ]
  },
  {
   "cell_type": "code",
   "execution_count": 13,
   "metadata": {},
   "outputs": [],
   "source": [
    "X_train = X_digits[:split]\n",
    "Y_train = Y_digits[:split]"
   ]
  },
  {
   "cell_type": "markdown",
   "metadata": {},
   "source": [
    "Формируем тестовую выборку и обучаем модель knn"
   ]
  },
  {
   "cell_type": "code",
   "execution_count": 14,
   "metadata": {},
   "outputs": [],
   "source": [
    "x_val = X_digits[split:]\n",
    "y_val = Y_digits[split:]"
   ]
  },
  {
   "cell_type": "code",
   "execution_count": 15,
   "metadata": {},
   "outputs": [],
   "source": [
    "# по умолчанию\n",
    "model = KNeighborsClassifier()"
   ]
  },
  {
   "cell_type": "code",
   "execution_count": 16,
   "metadata": {},
   "outputs": [
    {
     "data": {
      "text/plain": [
       "KNeighborsClassifier(algorithm='auto', leaf_size=30, metric='minkowski',\n",
       "           metric_params=None, n_jobs=None, n_neighbors=5, p=2,\n",
       "           weights='uniform')"
      ]
     },
     "execution_count": 16,
     "metadata": {},
     "output_type": "execute_result"
    }
   ],
   "source": [
    "model.fit(X_train,Y_train)"
   ]
  },
  {
   "cell_type": "code",
   "execution_count": 17,
   "metadata": {},
   "outputs": [
    {
     "data": {
      "text/plain": [
       "0.9611111111111111"
      ]
     },
     "execution_count": 17,
     "metadata": {},
     "output_type": "execute_result"
    }
   ],
   "source": [
    "model.score(x_val,y_val)"
   ]
  },
  {
   "cell_type": "markdown",
   "metadata": {},
   "source": [
    "посмотрим на результат в зависимости от параметра n_neighbors"
   ]
  },
  {
   "cell_type": "code",
   "execution_count": 18,
   "metadata": {},
   "outputs": [
    {
     "name": "stdout",
     "output_type": "stream",
     "text": [
      "[(0.9666666666666667, 1)]\n",
      "[(0.9666666666666667, 3)]\n",
      "[(0.9611111111111111, 5)]\n",
      "[(0.9611111111111111, 7)]\n",
      "[(0.9611111111111111, 9)]\n",
      "[(0.9611111111111111, 11)]\n",
      "[(0.9611111111111111, 13)]\n",
      "[(0.9555555555555556, 15)]\n",
      "[(0.9555555555555556, 17)]\n",
      "[(0.9555555555555556, 19)]\n",
      "[(0.9555555555555556, 21)]\n",
      "[(0.9555555555555556, 23)]\n"
     ]
    }
   ],
   "source": [
    "for i in range(1,25,2):\n",
    "    model = KNeighborsClassifier(n_neighbors=i)\n",
    "    model.fit(X_train,Y_train)\n",
    "    scores = {model.score(x_val,y_val):i}\n",
    "    print(sorted(scores.items(),key=lambda x: x[1]))"
   ]
  },
  {
   "cell_type": "markdown",
   "metadata": {},
   "source": [
    "Обучим с тремя соседями"
   ]
  },
  {
   "cell_type": "code",
   "execution_count": 19,
   "metadata": {},
   "outputs": [
    {
     "data": {
      "text/plain": [
       "KNeighborsClassifier(algorithm='auto', leaf_size=30, metric='minkowski',\n",
       "           metric_params=None, n_jobs=None, n_neighbors=3, p=2,\n",
       "           weights='uniform')"
      ]
     },
     "execution_count": 19,
     "metadata": {},
     "output_type": "execute_result"
    }
   ],
   "source": [
    "model = KNeighborsClassifier(n_neighbors=3)\n",
    "model.fit(X_train,Y_train)"
   ]
  },
  {
   "cell_type": "code",
   "execution_count": 20,
   "metadata": {},
   "outputs": [
    {
     "data": {
      "text/plain": [
       "0.9666666666666667"
      ]
     },
     "execution_count": 20,
     "metadata": {},
     "output_type": "execute_result"
    }
   ],
   "source": [
    "model.score(x_val,y_val)"
   ]
  },
  {
   "cell_type": "markdown",
   "metadata": {},
   "source": [
    "посмотрим на качество в зависимости от параметра n_neighbors на графике"
   ]
  },
  {
   "cell_type": "code",
   "execution_count": 21,
   "metadata": {},
   "outputs": [],
   "source": [
    "scores = []\n",
    "for i in range(1,100,2):\n",
    "    model = KNeighborsClassifier(n_neighbors=i)\n",
    "    model.fit(X_train,Y_train)\n",
    "    scores.append(model.score(x_val,y_val))"
   ]
  },
  {
   "cell_type": "code",
   "execution_count": 23,
   "metadata": {},
   "outputs": [
    {
     "data": {
      "image/png": "[encoded data removed]",
      "text/plain": [
       "<Figure size 1152x576 with 1 Axes>"
      ]
     },
     "metadata": {
      "image/png": {
       "height": 495,
       "width": 951
      },
      "needs_background": "light"
     },
     "output_type": "display_data"
    }
   ],
   "source": [
    "%config InlineBackend.figure_format = 'retina'\n",
    "plt.figure(figsize=(16,8))\n",
    "plt.plot(list(range(1,100,2)),scores)\n",
    "plt.ylabel('Score')\n",
    "plt.xlabel('n_neighbors')\n",
    "plt.title('Distribution of n_neighbors')\n",
    "plt.show()"
   ]
  }
 ],
 "metadata": {
  "kernelspec": {
   "display_name": "Python 3",
   "language": "python",
   "name": "python3"
  },
  "language_info": {
   "codemirror_mode": {
    "name": "ipython",
    "version": 3
   },
   "file_extension": ".py",
   "mimetype": "text/x-python",
   "name": "python",
   "nbconvert_exporter": "python",
   "pygments_lexer": "ipython3",
   "version": "3.6.8"
  }
 },
 "nbformat": 4,
 "nbformat_minor": 2
}
